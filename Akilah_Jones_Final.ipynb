{
  "nbformat": 4,
  "nbformat_minor": 0,
  "metadata": {
    "colab": {
      "name": "Akilah Jones Final",
      "provenance": [],
      "authorship_tag": "ABX9TyNLV+glNNJQdYyyAfeyPAmw",
      "include_colab_link": true
    },
    "kernelspec": {
      "name": "python3",
      "display_name": "Python 3"
    },
    "language_info": {
      "name": "python"
    }
  },
  "cells": [
    {
      "cell_type": "markdown",
      "metadata": {
        "id": "view-in-github",
        "colab_type": "text"
      },
      "source": [
        "<a href=\"https://colab.research.google.com/github/cpolzin21/Final-Presention/blob/main/Akilah_Jones_Final.ipynb\" target=\"_parent\"><img src=\"https://colab.research.google.com/assets/colab-badge.svg\" alt=\"Open In Colab\"/></a>"
      ]
    },
    {
      "cell_type": "code",
      "execution_count": null,
      "metadata": {
        "id": "VtAjmChaAhC8"
      },
      "outputs": [],
      "source": [
        "import pandas as pd\n",
        "import matplotlib.pyplot as plt\n",
        "import seaborn as sns"
      ]
    },
    {
      "cell_type": "code",
      "source": [
        "from google.colab import drive\n",
        "drive.mount('/content/drive')"
      ],
      "metadata": {
        "colab": {
          "base_uri": "https://localhost:8080/"
        },
        "id": "tz9YXvpnBElg",
        "outputId": "b47194db-7d97-48b5-e9eb-4889f4ffcb6c"
      },
      "execution_count": null,
      "outputs": [
        {
          "output_type": "stream",
          "name": "stdout",
          "text": [
            "Drive already mounted at /content/drive; to attempt to forcibly remount, call drive.mount(\"/content/drive\", force_remount=True).\n"
          ]
        }
      ]
    },
    {
      "cell_type": "code",
      "source": [
        "inflation = pd.read_csv('/content/drive/MyDrive/final/inflation.csv')\n",
        "inflation"
      ],
      "metadata": {
        "colab": {
          "base_uri": "https://localhost:8080/",
          "height": 771
        },
        "id": "OlAA1sYkBc4a",
        "outputId": "43c076d0-057b-4339-9afb-e494e9a71c81"
      },
      "execution_count": null,
      "outputs": [
        {
          "output_type": "execute_result",
          "data": {
            "text/plain": [
              "    Year  Inflation  Change  Year-over-year (%)\n",
              "0   2022       6.41    1.72               36.51\n",
              "1   2021       4.70    3.46              280.83\n",
              "2   2020       1.23   -0.58              -31.93\n",
              "3   2019       1.81   -0.63              -25.81\n",
              "4   2018       2.44    0.31               14.67\n",
              "5   2017       2.13    0.87               68.85\n",
              "6   2016       1.26    1.14              963.43\n",
              "7   2015       0.12   -1.50              -92.69\n",
              "8   2014       1.62    0.16               10.74\n",
              "9   2013       1.46   -0.60              -29.21\n",
              "10  2012       2.07   -1.09              -34.45\n",
              "11  2011       3.16    1.52               92.48\n",
              "12  2010       1.64    2.00             -561.26\n",
              "13  2009      -0.36   -4.19             -109.26\n",
              "14  2008       3.84    0.99               34.60\n",
              "15  2007       2.85   -0.37              -11.58\n",
              "16  2006       3.23   -0.17               -4.91\n",
              "17  2005       3.39    0.72               26.76\n",
              "18  2004       2.68    0.41               17.85\n",
              "19  2003       2.27    0.69               43.21\n",
              "20  2002       1.59   -1.24              -43.92\n",
              "21  2001       2.83   -0.55              -16.23\n",
              "22  2000       3.38    1.19               54.17"
            ],
            "text/html": [
              "\n",
              "  <div id=\"df-e1c8db6b-c4f5-4049-a462-22a06f12a965\">\n",
              "    <div class=\"colab-df-container\">\n",
              "      <div>\n",
              "<style scoped>\n",
              "    .dataframe tbody tr th:only-of-type {\n",
              "        vertical-align: middle;\n",
              "    }\n",
              "\n",
              "    .dataframe tbody tr th {\n",
              "        vertical-align: top;\n",
              "    }\n",
              "\n",
              "    .dataframe thead th {\n",
              "        text-align: right;\n",
              "    }\n",
              "</style>\n",
              "<table border=\"1\" class=\"dataframe\">\n",
              "  <thead>\n",
              "    <tr style=\"text-align: right;\">\n",
              "      <th></th>\n",
              "      <th>Year</th>\n",
              "      <th>Inflation</th>\n",
              "      <th>Change</th>\n",
              "      <th>Year-over-year (%)</th>\n",
              "    </tr>\n",
              "  </thead>\n",
              "  <tbody>\n",
              "    <tr>\n",
              "      <th>0</th>\n",
              "      <td>2022</td>\n",
              "      <td>6.41</td>\n",
              "      <td>1.72</td>\n",
              "      <td>36.51</td>\n",
              "    </tr>\n",
              "    <tr>\n",
              "      <th>1</th>\n",
              "      <td>2021</td>\n",
              "      <td>4.70</td>\n",
              "      <td>3.46</td>\n",
              "      <td>280.83</td>\n",
              "    </tr>\n",
              "    <tr>\n",
              "      <th>2</th>\n",
              "      <td>2020</td>\n",
              "      <td>1.23</td>\n",
              "      <td>-0.58</td>\n",
              "      <td>-31.93</td>\n",
              "    </tr>\n",
              "    <tr>\n",
              "      <th>3</th>\n",
              "      <td>2019</td>\n",
              "      <td>1.81</td>\n",
              "      <td>-0.63</td>\n",
              "      <td>-25.81</td>\n",
              "    </tr>\n",
              "    <tr>\n",
              "      <th>4</th>\n",
              "      <td>2018</td>\n",
              "      <td>2.44</td>\n",
              "      <td>0.31</td>\n",
              "      <td>14.67</td>\n",
              "    </tr>\n",
              "    <tr>\n",
              "      <th>5</th>\n",
              "      <td>2017</td>\n",
              "      <td>2.13</td>\n",
              "      <td>0.87</td>\n",
              "      <td>68.85</td>\n",
              "    </tr>\n",
              "    <tr>\n",
              "      <th>6</th>\n",
              "      <td>2016</td>\n",
              "      <td>1.26</td>\n",
              "      <td>1.14</td>\n",
              "      <td>963.43</td>\n",
              "    </tr>\n",
              "    <tr>\n",
              "      <th>7</th>\n",
              "      <td>2015</td>\n",
              "      <td>0.12</td>\n",
              "      <td>-1.50</td>\n",
              "      <td>-92.69</td>\n",
              "    </tr>\n",
              "    <tr>\n",
              "      <th>8</th>\n",
              "      <td>2014</td>\n",
              "      <td>1.62</td>\n",
              "      <td>0.16</td>\n",
              "      <td>10.74</td>\n",
              "    </tr>\n",
              "    <tr>\n",
              "      <th>9</th>\n",
              "      <td>2013</td>\n",
              "      <td>1.46</td>\n",
              "      <td>-0.60</td>\n",
              "      <td>-29.21</td>\n",
              "    </tr>\n",
              "    <tr>\n",
              "      <th>10</th>\n",
              "      <td>2012</td>\n",
              "      <td>2.07</td>\n",
              "      <td>-1.09</td>\n",
              "      <td>-34.45</td>\n",
              "    </tr>\n",
              "    <tr>\n",
              "      <th>11</th>\n",
              "      <td>2011</td>\n",
              "      <td>3.16</td>\n",
              "      <td>1.52</td>\n",
              "      <td>92.48</td>\n",
              "    </tr>\n",
              "    <tr>\n",
              "      <th>12</th>\n",
              "      <td>2010</td>\n",
              "      <td>1.64</td>\n",
              "      <td>2.00</td>\n",
              "      <td>-561.26</td>\n",
              "    </tr>\n",
              "    <tr>\n",
              "      <th>13</th>\n",
              "      <td>2009</td>\n",
              "      <td>-0.36</td>\n",
              "      <td>-4.19</td>\n",
              "      <td>-109.26</td>\n",
              "    </tr>\n",
              "    <tr>\n",
              "      <th>14</th>\n",
              "      <td>2008</td>\n",
              "      <td>3.84</td>\n",
              "      <td>0.99</td>\n",
              "      <td>34.60</td>\n",
              "    </tr>\n",
              "    <tr>\n",
              "      <th>15</th>\n",
              "      <td>2007</td>\n",
              "      <td>2.85</td>\n",
              "      <td>-0.37</td>\n",
              "      <td>-11.58</td>\n",
              "    </tr>\n",
              "    <tr>\n",
              "      <th>16</th>\n",
              "      <td>2006</td>\n",
              "      <td>3.23</td>\n",
              "      <td>-0.17</td>\n",
              "      <td>-4.91</td>\n",
              "    </tr>\n",
              "    <tr>\n",
              "      <th>17</th>\n",
              "      <td>2005</td>\n",
              "      <td>3.39</td>\n",
              "      <td>0.72</td>\n",
              "      <td>26.76</td>\n",
              "    </tr>\n",
              "    <tr>\n",
              "      <th>18</th>\n",
              "      <td>2004</td>\n",
              "      <td>2.68</td>\n",
              "      <td>0.41</td>\n",
              "      <td>17.85</td>\n",
              "    </tr>\n",
              "    <tr>\n",
              "      <th>19</th>\n",
              "      <td>2003</td>\n",
              "      <td>2.27</td>\n",
              "      <td>0.69</td>\n",
              "      <td>43.21</td>\n",
              "    </tr>\n",
              "    <tr>\n",
              "      <th>20</th>\n",
              "      <td>2002</td>\n",
              "      <td>1.59</td>\n",
              "      <td>-1.24</td>\n",
              "      <td>-43.92</td>\n",
              "    </tr>\n",
              "    <tr>\n",
              "      <th>21</th>\n",
              "      <td>2001</td>\n",
              "      <td>2.83</td>\n",
              "      <td>-0.55</td>\n",
              "      <td>-16.23</td>\n",
              "    </tr>\n",
              "    <tr>\n",
              "      <th>22</th>\n",
              "      <td>2000</td>\n",
              "      <td>3.38</td>\n",
              "      <td>1.19</td>\n",
              "      <td>54.17</td>\n",
              "    </tr>\n",
              "  </tbody>\n",
              "</table>\n",
              "</div>\n",
              "      <button class=\"colab-df-convert\" onclick=\"convertToInteractive('df-e1c8db6b-c4f5-4049-a462-22a06f12a965')\"\n",
              "              title=\"Convert this dataframe to an interactive table.\"\n",
              "              style=\"display:none;\">\n",
              "        \n",
              "  <svg xmlns=\"http://www.w3.org/2000/svg\" height=\"24px\"viewBox=\"0 0 24 24\"\n",
              "       width=\"24px\">\n",
              "    <path d=\"M0 0h24v24H0V0z\" fill=\"none\"/>\n",
              "    <path d=\"M18.56 5.44l.94 2.06.94-2.06 2.06-.94-2.06-.94-.94-2.06-.94 2.06-2.06.94zm-11 1L8.5 8.5l.94-2.06 2.06-.94-2.06-.94L8.5 2.5l-.94 2.06-2.06.94zm10 10l.94 2.06.94-2.06 2.06-.94-2.06-.94-.94-2.06-.94 2.06-2.06.94z\"/><path d=\"M17.41 7.96l-1.37-1.37c-.4-.4-.92-.59-1.43-.59-.52 0-1.04.2-1.43.59L10.3 9.45l-7.72 7.72c-.78.78-.78 2.05 0 2.83L4 21.41c.39.39.9.59 1.41.59.51 0 1.02-.2 1.41-.59l7.78-7.78 2.81-2.81c.8-.78.8-2.07 0-2.86zM5.41 20L4 18.59l7.72-7.72 1.47 1.35L5.41 20z\"/>\n",
              "  </svg>\n",
              "      </button>\n",
              "      \n",
              "  <style>\n",
              "    .colab-df-container {\n",
              "      display:flex;\n",
              "      flex-wrap:wrap;\n",
              "      gap: 12px;\n",
              "    }\n",
              "\n",
              "    .colab-df-convert {\n",
              "      background-color: #E8F0FE;\n",
              "      border: none;\n",
              "      border-radius: 50%;\n",
              "      cursor: pointer;\n",
              "      display: none;\n",
              "      fill: #1967D2;\n",
              "      height: 32px;\n",
              "      padding: 0 0 0 0;\n",
              "      width: 32px;\n",
              "    }\n",
              "\n",
              "    .colab-df-convert:hover {\n",
              "      background-color: #E2EBFA;\n",
              "      box-shadow: 0px 1px 2px rgba(60, 64, 67, 0.3), 0px 1px 3px 1px rgba(60, 64, 67, 0.15);\n",
              "      fill: #174EA6;\n",
              "    }\n",
              "\n",
              "    [theme=dark] .colab-df-convert {\n",
              "      background-color: #3B4455;\n",
              "      fill: #D2E3FC;\n",
              "    }\n",
              "\n",
              "    [theme=dark] .colab-df-convert:hover {\n",
              "      background-color: #434B5C;\n",
              "      box-shadow: 0px 1px 3px 1px rgba(0, 0, 0, 0.15);\n",
              "      filter: drop-shadow(0px 1px 2px rgba(0, 0, 0, 0.3));\n",
              "      fill: #FFFFFF;\n",
              "    }\n",
              "  </style>\n",
              "\n",
              "      <script>\n",
              "        const buttonEl =\n",
              "          document.querySelector('#df-e1c8db6b-c4f5-4049-a462-22a06f12a965 button.colab-df-convert');\n",
              "        buttonEl.style.display =\n",
              "          google.colab.kernel.accessAllowed ? 'block' : 'none';\n",
              "\n",
              "        async function convertToInteractive(key) {\n",
              "          const element = document.querySelector('#df-e1c8db6b-c4f5-4049-a462-22a06f12a965');\n",
              "          const dataTable =\n",
              "            await google.colab.kernel.invokeFunction('convertToInteractive',\n",
              "                                                     [key], {});\n",
              "          if (!dataTable) return;\n",
              "\n",
              "          const docLinkHtml = 'Like what you see? Visit the ' +\n",
              "            '<a target=\"_blank\" href=https://colab.research.google.com/notebooks/data_table.ipynb>data table notebook</a>'\n",
              "            + ' to learn more about interactive tables.';\n",
              "          element.innerHTML = '';\n",
              "          dataTable['output_type'] = 'display_data';\n",
              "          await google.colab.output.renderOutput(dataTable, element);\n",
              "          const docLink = document.createElement('div');\n",
              "          docLink.innerHTML = docLinkHtml;\n",
              "          element.appendChild(docLink);\n",
              "        }\n",
              "      </script>\n",
              "    </div>\n",
              "  </div>\n",
              "  "
            ]
          },
          "metadata": {},
          "execution_count": 14
        }
      ]
    },
    {
      "cell_type": "code",
      "source": [
        "inflation.info()"
      ],
      "metadata": {
        "colab": {
          "base_uri": "https://localhost:8080/"
        },
        "id": "QY7udcIrG46U",
        "outputId": "30ce0fbc-a620-4618-f6c2-fb2241b519a9"
      },
      "execution_count": null,
      "outputs": [
        {
          "output_type": "stream",
          "name": "stdout",
          "text": [
            "<class 'pandas.core.frame.DataFrame'>\n",
            "RangeIndex: 23 entries, 0 to 22\n",
            "Data columns (total 4 columns):\n",
            " #   Column              Non-Null Count  Dtype  \n",
            "---  ------              --------------  -----  \n",
            " 0   Year                23 non-null     int64  \n",
            " 1   Inflation           23 non-null     float64\n",
            " 2   Change              23 non-null     float64\n",
            " 3   Year-over-year (%)  23 non-null     float64\n",
            "dtypes: float64(3), int64(1)\n",
            "memory usage: 864.0 bytes\n"
          ]
        }
      ]
    },
    {
      "cell_type": "code",
      "source": [
        "sns.lineplot(data=inflation, x=\"Year\", y=\"Inflation\")\n"
      ],
      "metadata": {
        "colab": {
          "base_uri": "https://localhost:8080/",
          "height": 296
        },
        "id": "rAmwacdsEzin",
        "outputId": "5f697ddb-78ab-462a-ab78-60973f74eebb"
      },
      "execution_count": null,
      "outputs": [
        {
          "output_type": "execute_result",
          "data": {
            "text/plain": [
              "<matplotlib.axes._subplots.AxesSubplot at 0x7f1d18509090>"
            ]
          },
          "metadata": {},
          "execution_count": 5
        },
        {
          "output_type": "display_data",
          "data": {
            "text/plain": [
              "<Figure size 432x288 with 1 Axes>"
            ],
            "image/png": "[encoded data removed]"
          },
          "metadata": {
            "needs_background": "light"
          }
        }
      ]
    },
    {
      "cell_type": "code",
      "source": [
        "minw=pd.read_csv('/content/drive/MyDrive/final/minwage.csv')\n",
        "min=minw.loc[minw[\"DATE\"]>=2000]\n",
        "min.head()"
      ],
      "metadata": {
        "colab": {
          "base_uri": "https://localhost:8080/",
          "height": 206
        },
        "id": "R7KalbldS-xL",
        "outputId": "7d90f4dc-9cac-4607-f3bb-3e608d8a7494"
      },
      "execution_count": null,
      "outputs": [
        {
          "output_type": "execute_result",
          "data": {
            "text/plain": [
              "    DATE  STTMINWGMI  FEDERAL\n",
              "32  2000        5.15     5.15\n",
              "33  2001        5.15     5.15\n",
              "34  2002        5.15     5.15\n",
              "35  2003        5.15     5.15\n",
              "36  2004        5.15     5.15"
            ],
            "text/html": [
              "\n",
              "  <div id=\"df-31fc5bf9-1764-4245-9de6-61b88cafff13\">\n",
              "    <div class=\"colab-df-container\">\n",
              "      <div>\n",
              "<style scoped>\n",
              "    .dataframe tbody tr th:only-of-type {\n",
              "        vertical-align: middle;\n",
              "    }\n",
              "\n",
              "    .dataframe tbody tr th {\n",
              "        vertical-align: top;\n",
              "    }\n",
              "\n",
              "    .dataframe thead th {\n",
              "        text-align: right;\n",
              "    }\n",
              "</style>\n",
              "<table border=\"1\" class=\"dataframe\">\n",
              "  <thead>\n",
              "    <tr style=\"text-align: right;\">\n",
              "      <th></th>\n",
              "      <th>DATE</th>\n",
              "      <th>STTMINWGMI</th>\n",
              "      <th>FEDERAL</th>\n",
              "    </tr>\n",
              "  </thead>\n",
              "  <tbody>\n",
              "    <tr>\n",
              "      <th>32</th>\n",
              "      <td>2000</td>\n",
              "      <td>5.15</td>\n",
              "      <td>5.15</td>\n",
              "    </tr>\n",
              "    <tr>\n",
              "      <th>33</th>\n",
              "      <td>2001</td>\n",
              "      <td>5.15</td>\n",
              "      <td>5.15</td>\n",
              "    </tr>\n",
              "    <tr>\n",
              "      <th>34</th>\n",
              "      <td>2002</td>\n",
              "      <td>5.15</td>\n",
              "      <td>5.15</td>\n",
              "    </tr>\n",
              "    <tr>\n",
              "      <th>35</th>\n",
              "      <td>2003</td>\n",
              "      <td>5.15</td>\n",
              "      <td>5.15</td>\n",
              "    </tr>\n",
              "    <tr>\n",
              "      <th>36</th>\n",
              "      <td>2004</td>\n",
              "      <td>5.15</td>\n",
              "      <td>5.15</td>\n",
              "    </tr>\n",
              "  </tbody>\n",
              "</table>\n",
              "</div>\n",
              "      <button class=\"colab-df-convert\" onclick=\"convertToInteractive('df-31fc5bf9-1764-4245-9de6-61b88cafff13')\"\n",
              "              title=\"Convert this dataframe to an interactive table.\"\n",
              "              style=\"display:none;\">\n",
              "        \n",
              "  <svg xmlns=\"http://www.w3.org/2000/svg\" height=\"24px\"viewBox=\"0 0 24 24\"\n",
              "       width=\"24px\">\n",
              "    <path d=\"M0 0h24v24H0V0z\" fill=\"none\"/>\n",
              "    <path d=\"M18.56 5.44l.94 2.06.94-2.06 2.06-.94-2.06-.94-.94-2.06-.94 2.06-2.06.94zm-11 1L8.5 8.5l.94-2.06 2.06-.94-2.06-.94L8.5 2.5l-.94 2.06-2.06.94zm10 10l.94 2.06.94-2.06 2.06-.94-2.06-.94-.94-2.06-.94 2.06-2.06.94z\"/><path d=\"M17.41 7.96l-1.37-1.37c-.4-.4-.92-.59-1.43-.59-.52 0-1.04.2-1.43.59L10.3 9.45l-7.72 7.72c-.78.78-.78 2.05 0 2.83L4 21.41c.39.39.9.59 1.41.59.51 0 1.02-.2 1.41-.59l7.78-7.78 2.81-2.81c.8-.78.8-2.07 0-2.86zM5.41 20L4 18.59l7.72-7.72 1.47 1.35L5.41 20z\"/>\n",
              "  </svg>\n",
              "      </button>\n",
              "      \n",
              "  <style>\n",
              "    .colab-df-container {\n",
              "      display:flex;\n",
              "      flex-wrap:wrap;\n",
              "      gap: 12px;\n",
              "    }\n",
              "\n",
              "    .colab-df-convert {\n",
              "      background-color: #E8F0FE;\n",
              "      border: none;\n",
              "      border-radius: 50%;\n",
              "      cursor: pointer;\n",
              "      display: none;\n",
              "      fill: #1967D2;\n",
              "      height: 32px;\n",
              "      padding: 0 0 0 0;\n",
              "      width: 32px;\n",
              "    }\n",
              "\n",
              "    .colab-df-convert:hover {\n",
              "      background-color: #E2EBFA;\n",
              "      box-shadow: 0px 1px 2px rgba(60, 64, 67, 0.3), 0px 1px 3px 1px rgba(60, 64, 67, 0.15);\n",
              "      fill: #174EA6;\n",
              "    }\n",
              "\n",
              "    [theme=dark] .colab-df-convert {\n",
              "      background-color: #3B4455;\n",
              "      fill: #D2E3FC;\n",
              "    }\n",
              "\n",
              "    [theme=dark] .colab-df-convert:hover {\n",
              "      background-color: #434B5C;\n",
              "      box-shadow: 0px 1px 3px 1px rgba(0, 0, 0, 0.15);\n",
              "      filter: drop-shadow(0px 1px 2px rgba(0, 0, 0, 0.3));\n",
              "      fill: #FFFFFF;\n",
              "    }\n",
              "  </style>\n",
              "\n",
              "      <script>\n",
              "        const buttonEl =\n",
              "          document.querySelector('#df-31fc5bf9-1764-4245-9de6-61b88cafff13 button.colab-df-convert');\n",
              "        buttonEl.style.display =\n",
              "          google.colab.kernel.accessAllowed ? 'block' : 'none';\n",
              "\n",
              "        async function convertToInteractive(key) {\n",
              "          const element = document.querySelector('#df-31fc5bf9-1764-4245-9de6-61b88cafff13');\n",
              "          const dataTable =\n",
              "            await google.colab.kernel.invokeFunction('convertToInteractive',\n",
              "                                                     [key], {});\n",
              "          if (!dataTable) return;\n",
              "\n",
              "          const docLinkHtml = 'Like what you see? Visit the ' +\n",
              "            '<a target=\"_blank\" href=https://colab.research.google.com/notebooks/data_table.ipynb>data table notebook</a>'\n",
              "            + ' to learn more about interactive tables.';\n",
              "          element.innerHTML = '';\n",
              "          dataTable['output_type'] = 'display_data';\n",
              "          await google.colab.output.renderOutput(dataTable, element);\n",
              "          const docLink = document.createElement('div');\n",
              "          docLink.innerHTML = docLinkHtml;\n",
              "          element.appendChild(docLink);\n",
              "        }\n",
              "      </script>\n",
              "    </div>\n",
              "  </div>\n",
              "  "
            ]
          },
          "metadata": {},
          "execution_count": 15
        }
      ]
    },
    {
      "cell_type": "code",
      "source": [
        "plt.plot(min['DATE'], min['STTMINWGMI'], color='g', label='Michigan')\n",
        "\n",
        "# Plot another line on the same chart/graph\n",
        "plt.plot(min['DATE'], min['FEDERAL'], color='r', label='Federal')\n",
        "\n",
        "plt.ylabel(\"Wage in USD\")\n",
        "plt.legend()\n",
        "plt.show()"
      ],
      "metadata": {
        "colab": {
          "base_uri": "https://localhost:8080/",
          "height": 265
        },
        "id": "GOaElKepTihI",
        "outputId": "593cec63-1af4-4e27-b11b-4cad3d52733b"
      },
      "execution_count": null,
      "outputs": [
        {
          "output_type": "display_data",
          "data": {
            "text/plain": [
              "<Figure size 432x288 with 1 Axes>"
            ],
            "image/png": "[encoded data removed]"
          },
          "metadata": {
            "needs_background": "light"
          }
        }
      ]
    },
    {
      "cell_type": "code",
      "source": [
        "spend=pd.read_csv('/content/drive/MyDrive/final/spending.csv')\n",
        "spend= spend.iloc[0:12]"
      ],
      "metadata": {
        "id": "W6hdt-oxas1y"
      },
      "execution_count": null,
      "outputs": []
    },
    {
      "cell_type": "code",
      "source": [
        "spend['% of budget'] = spend['% of budget'].str.rstrip('%').astype('float') / 100.0\n",
        "spend.dtypes"
      ],
      "metadata": {
        "colab": {
          "base_uri": "https://localhost:8080/"
        },
        "id": "nfVXA_tt8iea",
        "outputId": "9c0e5aa0-c24f-43a8-d99c-fdae0eb41de2"
      },
      "execution_count": null,
      "outputs": [
        {
          "output_type": "execute_result",
          "data": {
            "text/plain": [
              "Expense                 object\n",
              "Average annual cost     object\n",
              "% of budget            float64\n",
              "dtype: object"
            ]
          },
          "metadata": {},
          "execution_count": 34
        }
      ]
    },
    {
      "cell_type": "code",
      "source": [
        "plt.figure(figsize=(80, 10))\n",
        "colors =sns.color_palette(\"flare\")\n",
        "plt.pie(x= spend[\"% of budget\"],labels =spend[\"Expense\"],colors = colors, autopct='%.0f%%')"
      ],
      "metadata": {
        "colab": {
          "base_uri": "https://localhost:8080/",
          "height": 1000
        },
        "id": "wTDJDdvt722B",
        "outputId": "614bf37d-673f-4b74-c20a-29aa23ebbd3d"
      },
      "execution_count": null,
      "outputs": [
        {
          "output_type": "execute_result",
          "data": {
            "text/plain": [
              "([<matplotlib.patches.Wedge at 0x7f1d150e7710>,\n",
              "  <matplotlib.patches.Wedge at 0x7f1d150e7dd0>,\n",
              "  <matplotlib.patches.Wedge at 0x7f1d150f0690>,\n",
              "  <matplotlib.patches.Wedge at 0x7f1d150f0f90>,\n",
              "  <matplotlib.patches.Wedge at 0x7f1d150fdb10>,\n",
              "  <matplotlib.patches.Wedge at 0x7f1d15108490>,\n",
              "  <matplotlib.patches.Wedge at 0x7f1d150e7550>,\n",
              "  <matplotlib.patches.Wedge at 0x7f1d151142d0>,\n",
              "  <matplotlib.patches.Wedge at 0x7f1d15114b50>,\n",
              "  <matplotlib.patches.Wedge at 0x7f1d15108190>,\n",
              "  <matplotlib.patches.Wedge at 0x7f1d1511eb90>,\n",
              "  <matplotlib.patches.Wedge at 0x7f1d150aa450>],\n",
              " [Text(0.6465637441936395, 0.8899187180267095, 'Housing'),\n",
              "  Text(-0.7530018780839288, 0.8018654323526336, 'Transportation'),\n",
              "  Text(-1.0994572142025187, -0.03455190498419824, 'Income taxes'),\n",
              "  Text(-0.8018654499779142, -0.7530018593149139, 'Food'),\n",
              "  Text(-0.2061193782636084, -1.0805159887314133, 'Personal insurance, and Social Security and retirement plan contributions'),\n",
              "  Text(0.3726117830073866, -1.0349688203825547, 'Health care'),\n",
              "  Text(0.7274431109549532, -0.825122124490781, 'Entertainment'),\n",
              "  Text(0.909788676131553, -0.6182916502612633, 'Cash contributions'),\n",
              "  Text(0.9953097897236797, -0.46835715269461276, 'Apparel and services'),\n",
              "  Text(1.0461621902025062, -0.33991862524830185, 'Education'),\n",
              "  Text(1.0805159887314133, -0.20611937826360846, 'Miscellaneous'),\n",
              "  Text(1.0978294054098232, -0.06906950569907272, 'Personal care products and services')],\n",
              " [Text(0.3526711331965306, 0.48541020983275057, '30%'),\n",
              "  Text(-0.4107282971366884, 0.43738114491961827, '14%'),\n",
              "  Text(-0.5997039350195557, -0.01884649362774449, '13%'),\n",
              "  Text(-0.4373811545334077, -0.4107282868990439, '10%'),\n",
              "  Text(-0.11242875178015002, -0.5893723574898617, '10%'),\n",
              "  Text(0.20324279073130178, -0.5645284474813933, '7%'),\n",
              "  Text(0.3967871514299744, -0.45006661335860776, '5%'),\n",
              "  Text(0.49624836879902884, -0.33724999105159814, '3%'),\n",
              "  Text(0.5428962489401888, -0.25546753783342513, '2%'),\n",
              "  Text(0.5706339219286397, -0.18541015922634643, '2%'),\n",
              "  Text(0.5893723574898617, -0.11242875178015006, '2%'),\n",
              "  Text(0.5988160393144489, -0.03767427583585784, '2%')])"
            ]
          },
          "metadata": {},
          "execution_count": 44
        },
        {
          "output_type": "display_data",
          "data": {
            "text/plain": [
              "<Figure size 5760x720 with 1 Axes>"
            ],
            "image/png": "[encoded data removed]"
          },
          "metadata": {}
        }
      ]
    }
  ]
}